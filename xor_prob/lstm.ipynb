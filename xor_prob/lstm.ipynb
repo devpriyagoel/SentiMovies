{
 "cells": [
  {
   "cell_type": "code",
   "execution_count": 20,
   "metadata": {},
   "outputs": [],
   "source": [
    "import numpy as np\n",
    "import random\n",
    "from sklearn.model_selection import train_test_split\n",
    "from keras.models import Sequential\n",
    "from keras.layers import LSTM, Dense"
   ]
  },
  {
   "cell_type": "code",
   "execution_count": 21,
   "metadata": {},
   "outputs": [
    {
     "name": "stdout",
     "output_type": "stream",
     "text": [
      "Enter size of binary strings\n",
      "15\n"
     ]
    }
   ],
   "source": [
    "print(\"Enter size of binary strings\")\n",
    "size = int(input())\n",
    "num = 500000"
   ]
  },
  {
   "cell_type": "code",
   "execution_count": 22,
   "metadata": {},
   "outputs": [],
   "source": [
    "X = np.zeros((num, size, 2), dtype=int)\n",
    "Y = np.zeros((num, size), dtype=int)"
   ]
  },
  {
   "cell_type": "code",
   "execution_count": 23,
   "metadata": {},
   "outputs": [],
   "source": [
    "for i in range(num):\n",
    "    for j in range(size):\n",
    "        X[i][j][0]=random.randint(0, 1)\n",
    "        X[i][j][1]=random.randint(0, 1)\n",
    "        Y[i][j] = X[i][j][0]^X[i][j][1]"
   ]
  },
  {
   "cell_type": "code",
   "execution_count": 24,
   "metadata": {},
   "outputs": [
    {
     "name": "stdout",
     "output_type": "stream",
     "text": [
      "[[[1 1]\n",
      "  [1 0]\n",
      "  [1 0]\n",
      "  ...\n",
      "  [1 1]\n",
      "  [1 0]\n",
      "  [0 0]]\n",
      "\n",
      " [[0 0]\n",
      "  [0 0]\n",
      "  [0 1]\n",
      "  ...\n",
      "  [1 1]\n",
      "  [0 0]\n",
      "  [0 1]]\n",
      "\n",
      " [[0 0]\n",
      "  [1 1]\n",
      "  [1 0]\n",
      "  ...\n",
      "  [0 0]\n",
      "  [1 1]\n",
      "  [0 0]]\n",
      "\n",
      " ...\n",
      "\n",
      " [[1 1]\n",
      "  [0 1]\n",
      "  [1 0]\n",
      "  ...\n",
      "  [1 1]\n",
      "  [0 1]\n",
      "  [1 1]]\n",
      "\n",
      " [[1 0]\n",
      "  [0 0]\n",
      "  [0 0]\n",
      "  ...\n",
      "  [1 1]\n",
      "  [0 1]\n",
      "  [1 0]]\n",
      "\n",
      " [[1 1]\n",
      "  [1 1]\n",
      "  [0 1]\n",
      "  ...\n",
      "  [1 0]\n",
      "  [1 1]\n",
      "  [0 1]]]\n",
      "[[0 1 1 ... 0 1 0]\n",
      " [0 0 1 ... 0 0 1]\n",
      " [0 0 1 ... 0 0 0]\n",
      " ...\n",
      " [0 1 1 ... 0 1 0]\n",
      " [1 0 0 ... 0 1 1]\n",
      " [0 0 1 ... 1 0 1]]\n"
     ]
    }
   ],
   "source": [
    "print(X)\n",
    "print(Y)"
   ]
  },
  {
   "cell_type": "code",
   "execution_count": 25,
   "metadata": {},
   "outputs": [],
   "source": [
    "model = Sequential()"
   ]
  },
  {
   "cell_type": "code",
   "execution_count": 26,
   "metadata": {},
   "outputs": [],
   "source": [
    "model.add(LSTM(size, input_shape=(size,2)))"
   ]
  },
  {
   "cell_type": "code",
   "execution_count": 27,
   "metadata": {},
   "outputs": [],
   "source": [
    "model.add(Dense(size, activation=\"sigmoid\"))"
   ]
  },
  {
   "cell_type": "code",
   "execution_count": 28,
   "metadata": {},
   "outputs": [
    {
     "name": "stdout",
     "output_type": "stream",
     "text": [
      "_________________________________________________________________\n",
      "Layer (type)                 Output Shape              Param #   \n",
      "=================================================================\n",
      "lstm_2 (LSTM)                (None, 15)                1080      \n",
      "_________________________________________________________________\n",
      "dense_2 (Dense)              (None, 15)                240       \n",
      "=================================================================\n",
      "Total params: 1,320\n",
      "Trainable params: 1,320\n",
      "Non-trainable params: 0\n",
      "_________________________________________________________________\n"
     ]
    }
   ],
   "source": [
    "model.summary()\n",
    "model.compile(\"adam\", loss=\"binary_crossentropy\", metrics=[\"accuracy\"])"
   ]
  },
  {
   "cell_type": "code",
   "execution_count": 29,
   "metadata": {},
   "outputs": [],
   "source": [
    "x_train,x_test,y_train,y_test=train_test_split(X,Y)"
   ]
  },
  {
   "cell_type": "code",
   "execution_count": 30,
   "metadata": {},
   "outputs": [
    {
     "name": "stdout",
     "output_type": "stream",
     "text": [
      "Epoch 1/3\n",
      "375000/375000 [==============================] - 78s 207us/step - loss: 0.4079 - acc: 0.7924\n",
      "Epoch 2/3\n",
      "375000/375000 [==============================] - 76s 202us/step - loss: 0.1536 - acc: 0.9384\n",
      "Epoch 3/3\n",
      "375000/375000 [==============================] - 71s 189us/step - loss: 0.0681 - acc: 0.9779\n"
     ]
    },
    {
     "data": {
      "text/plain": [
       "<keras.callbacks.History at 0x7f02f37cdb00>"
      ]
     },
     "execution_count": 30,
     "metadata": {},
     "output_type": "execute_result"
    }
   ],
   "source": [
    "model.fit(x_train, y_train, epochs=3, batch_size=32)"
   ]
  },
  {
   "cell_type": "code",
   "execution_count": 31,
   "metadata": {},
   "outputs": [
    {
     "name": "stdout",
     "output_type": "stream",
     "text": [
      "125000/125000 [==============================] - 4s 35us/step\n"
     ]
    }
   ],
   "source": [
    "loss, accuracy= model.evaluate(x_test,y_test)"
   ]
  },
  {
   "cell_type": "code",
   "execution_count": 32,
   "metadata": {},
   "outputs": [
    {
     "data": {
      "text/plain": [
       "98.879521068573"
      ]
     },
     "execution_count": 32,
     "metadata": {},
     "output_type": "execute_result"
    }
   ],
   "source": [
    "accuracy*100\n"
   ]
  },
  {
   "cell_type": "code",
   "execution_count": null,
   "metadata": {},
   "outputs": [],
   "source": []
  }
 ],
 "metadata": {
  "kernelspec": {
   "display_name": "Python 3",
   "language": "python",
   "name": "python3"
  },
  "language_info": {
   "codemirror_mode": {
    "name": "ipython",
    "version": 3
   },
   "file_extension": ".py",
   "mimetype": "text/x-python",
   "name": "python",
   "nbconvert_exporter": "python",
   "pygments_lexer": "ipython3",
   "version": "3.7.1"
  }
 },
 "nbformat": 4,
 "nbformat_minor": 2
}
