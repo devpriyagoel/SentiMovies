{
 "cells": [
  {
   "cell_type": "code",
   "execution_count": 97,
   "metadata": {},
   "outputs": [
    {
     "name": "stderr",
     "output_type": "stream",
     "text": [
      "[nltk_data] Downloading package stopwords to /home/satej/nltk_data...\n",
      "[nltk_data]   Package stopwords is already up-to-date!\n"
     ]
    },
    {
     "data": {
      "text/plain": [
       "True"
      ]
     },
     "execution_count": 97,
     "metadata": {},
     "output_type": "execute_result"
    }
   ],
   "source": [
    "import pandas as pd\n",
    "import numpy as np\n",
    "import csv\n",
    "import re\n",
    "import nltk\n",
    "nltk.download('stopwords')"
   ]
  },
  {
   "cell_type": "code",
   "execution_count": null,
   "metadata": {},
   "outputs": [],
   "source": []
  },
  {
   "cell_type": "code",
   "execution_count": 98,
   "metadata": {},
   "outputs": [],
   "source": [
    "# df=pd.read_csv('sample1.tsv',delimiter='\\t') \n",
    "# df.head()"
   ]
  },
  {
   "cell_type": "code",
   "execution_count": 99,
   "metadata": {},
   "outputs": [
    {
     "name": "stderr",
     "output_type": "stream",
     "text": [
      "[nltk_data] Downloading package wordnet to /home/satej/nltk_data...\n",
      "[nltk_data]   Package wordnet is already up-to-date!\n"
     ]
    }
   ],
   "source": [
    "from nltk.stem import WordNetLemmatizer\n",
    "from nltk.tokenize import word_tokenize\n",
    "from nltk.tag import pos_tag\n",
    "nltk.download('wordnet')\n",
    "from nltk.stem import wordnet"
   ]
  },
  {
   "cell_type": "code",
   "execution_count": 100,
   "metadata": {},
   "outputs": [
    {
     "name": "stderr",
     "output_type": "stream",
     "text": [
      "[nltk_data] Downloading package punkt to /home/satej/nltk_data...\n",
      "[nltk_data]   Package punkt is already up-to-date!\n",
      "[nltk_data] Downloading package averaged_perceptron_tagger to\n",
      "[nltk_data]     /home/satej/nltk_data...\n",
      "[nltk_data]   Package averaged_perceptron_tagger is already up-to-\n",
      "[nltk_data]       date!\n"
     ]
    },
    {
     "data": {
      "text/plain": [
       "True"
      ]
     },
     "execution_count": 100,
     "metadata": {},
     "output_type": "execute_result"
    }
   ],
   "source": [
    "nltk.download('punkt')\n",
    "nltk.download('averaged_perceptron_tagger')"
   ]
  },
  {
   "cell_type": "code",
   "execution_count": 101,
   "metadata": {},
   "outputs": [],
   "source": [
    "from nltk.corpus import stopwords\n",
    "import string\n",
    "# # Apply this code to every textual string\n",
    "\n",
    "wnl = WordNetLemmatizer() \n",
    "def cleaning(df,temp2):\n",
    "        syn=df.iloc[0]['synopsis']\n",
    "\n",
    "        syn = re.sub('''[!@#$+%*:();/.,?\"'-]''', ' ', syn)\n",
    "        syn = re.sub('\\s+',' ',syn)\n",
    "        syn=syn.strip()\n",
    "        word_list = syn.split() \n",
    "        filtered_words = [word for word in word_list if word.lower() not in stopwords.words('english')]\n",
    "        syn = ' '.join(filtered_words)\n",
    "        temp=[]\n",
    "        for word, tag in pos_tag(word_tokenize(syn)):\n",
    "            if tag.startswith(\"NN\"):\n",
    "                temp.append(wnl.lemmatize(word, pos='n'))\n",
    "            elif tag.startswith('VB'):\n",
    "                temp.append(wnl.lemmatize(word, pos='v'))\n",
    "            elif tag.startswith('JJ'):\n",
    "                temp.append(wnl.lemmatize(word, pos='a'))\n",
    "            else:\n",
    "                temp.append(word)\n",
    "        syn=''\n",
    "        syn=' '.join(temp)\n",
    "        synop={'synopsis':syn}\n",
    "        dataset=[]\n",
    "        dataset.append(synop)\n",
    "        df2=pd.DataFrame(dataset)\n",
    "#         print(syn)\n",
    "        df['synopsis']=syn\n",
    "        if(temp2==1):\n",
    "            df2.to_csv('half_processed.tsv',sep='\\t')\n",
    "        else:\n",
    "#             print(\"1\")\n",
    "            with open('half_processed.tsv','a') as f :\n",
    "                df2.to_csv(f , header=False,sep='\\t')\n",
    "        "
   ]
  },
  {
   "cell_type": "code",
   "execution_count": 102,
   "metadata": {},
   "outputs": [],
   "source": [
    "# df.to_csv('preprocessed.tsv',sep='\\t')"
   ]
  },
  {
   "cell_type": "code",
   "execution_count": 103,
   "metadata": {},
   "outputs": [
    {
     "name": "stdout",
     "output_type": "stream",
     "text": [
      "1\n",
      "2\n",
      "3\n",
      "4\n",
      "5\n"
     ]
    }
   ],
   "source": [
    "chunksize = 1\n",
    "temp2=0\n",
    "for chunk in pd.read_csv('sample1.tsv', chunksize=chunksize, delimiter='\\t'):\n",
    "    df= pd.DataFrame(chunk)\n",
    "    temp2=temp2+1\n",
    "    cleaning(df,temp2) \n",
    "#     df.to_csv('preprocessed_final.tsv',sep='\\t')\n",
    "    print(temp2)\n",
    "    "
   ]
  },
  {
   "cell_type": "code",
   "execution_count": null,
   "metadata": {},
   "outputs": [],
   "source": []
  },
  {
   "cell_type": "code",
   "execution_count": null,
   "metadata": {},
   "outputs": [],
   "source": []
  }
 ],
 "metadata": {
  "kernelspec": {
   "display_name": "Python 3",
   "language": "python",
   "name": "python3"
  },
  "language_info": {
   "codemirror_mode": {
    "name": "ipython",
    "version": 3
   },
   "file_extension": ".py",
   "mimetype": "text/x-python",
   "name": "python",
   "nbconvert_exporter": "python",
   "pygments_lexer": "ipython3",
   "version": "3.7.1"
  }
 },
 "nbformat": 4,
 "nbformat_minor": 2
}
