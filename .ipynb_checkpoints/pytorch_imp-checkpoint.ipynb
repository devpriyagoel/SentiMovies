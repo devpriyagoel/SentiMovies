{
 "cells": [
  {
   "cell_type": "code",
   "execution_count": 1,
   "metadata": {},
   "outputs": [],
   "source": [
    "import numpy as np\n",
    "import torch\n",
    "from torch import nn\n",
    "import torch.nn.functional as F\n"
   ]
  },
  {
   "cell_type": "code",
   "execution_count": 2,
   "metadata": {},
   "outputs": [],
   "source": [
    "import pandas as pd"
   ]
  },
  {
   "cell_type": "code",
   "execution_count": 3,
   "metadata": {},
   "outputs": [],
   "source": [
    "df=pd.read_csv('preprocessed.tsv',delimiter='\\t')"
   ]
  },
  {
   "cell_type": "code",
   "execution_count": 4,
   "metadata": {},
   "outputs": [
    {
     "data": {
      "text/html": [
       "<div>\n",
       "<style scoped>\n",
       "    .dataframe tbody tr th:only-of-type {\n",
       "        vertical-align: middle;\n",
       "    }\n",
       "\n",
       "    .dataframe tbody tr th {\n",
       "        vertical-align: top;\n",
       "    }\n",
       "\n",
       "    .dataframe thead th {\n",
       "        text-align: right;\n",
       "    }\n",
       "</style>\n",
       "<table border=\"1\" class=\"dataframe\">\n",
       "  <thead>\n",
       "    <tr style=\"text-align: right;\">\n",
       "      <th></th>\n",
       "      <th>Unnamed: 0</th>\n",
       "      <th>Unnamed: 0.1</th>\n",
       "      <th>rating</th>\n",
       "      <th>reviews</th>\n",
       "      <th>synopsis</th>\n",
       "      <th>title</th>\n",
       "      <th>user_ratings</th>\n",
       "    </tr>\n",
       "  </thead>\n",
       "  <tbody>\n",
       "    <tr>\n",
       "      <th>0</th>\n",
       "      <td>0</td>\n",
       "      <td>0</td>\n",
       "      <td>9.217045</td>\n",
       "      <td>['Tied for the best movie I have ever seen Why...</td>\n",
       "      <td>1947 Andy Dufresne Tim Robbins banker Maine co...</td>\n",
       "      <td>The Shawshank Redemption</td>\n",
       "      <td>['10/10', '10/10', '10/10', '10/10', '10/10', ...</td>\n",
       "    </tr>\n",
       "    <tr>\n",
       "      <th>1</th>\n",
       "      <td>1</td>\n",
       "      <td>1</td>\n",
       "      <td>1.997582</td>\n",
       "      <td>['The fact that aspiring actors, directors, an...</td>\n",
       "      <td>movie open spoof Armageddon 10 000 B C year 10...</td>\n",
       "      <td>Disaster Movie</td>\n",
       "      <td>['1/10', '1/10', '1/10', '1/10', '1/10', '1/10...</td>\n",
       "    </tr>\n",
       "    <tr>\n",
       "      <th>2</th>\n",
       "      <td>2</td>\n",
       "      <td>2</td>\n",
       "      <td>8.500000</td>\n",
       "      <td>['Unlike anything ever done in the history of ...</td>\n",
       "      <td>SPOILER Thanos Children Proxima Midnight Ebony...</td>\n",
       "      <td>Avengers: Infinity War</td>\n",
       "      <td>['10/10', '10/10', '10/10', '9/10', '10/10', '...</td>\n",
       "    </tr>\n",
       "  </tbody>\n",
       "</table>\n",
       "</div>"
      ],
      "text/plain": [
       "   Unnamed: 0  Unnamed: 0.1    rating  \\\n",
       "0           0             0  9.217045   \n",
       "1           1             1  1.997582   \n",
       "2           2             2  8.500000   \n",
       "\n",
       "                                             reviews  \\\n",
       "0  ['Tied for the best movie I have ever seen Why...   \n",
       "1  ['The fact that aspiring actors, directors, an...   \n",
       "2  ['Unlike anything ever done in the history of ...   \n",
       "\n",
       "                                            synopsis  \\\n",
       "0  1947 Andy Dufresne Tim Robbins banker Maine co...   \n",
       "1  movie open spoof Armageddon 10 000 B C year 10...   \n",
       "2  SPOILER Thanos Children Proxima Midnight Ebony...   \n",
       "\n",
       "                      title                                       user_ratings  \n",
       "0  The Shawshank Redemption  ['10/10', '10/10', '10/10', '10/10', '10/10', ...  \n",
       "1            Disaster Movie  ['1/10', '1/10', '1/10', '1/10', '1/10', '1/10...  \n",
       "2    Avengers: Infinity War  ['10/10', '10/10', '10/10', '9/10', '10/10', '...  "
      ]
     },
     "execution_count": 4,
     "metadata": {},
     "output_type": "execute_result"
    }
   ],
   "source": [
    "df.head()"
   ]
  },
  {
   "cell_type": "code",
   "execution_count": 5,
   "metadata": {},
   "outputs": [
    {
     "data": {
      "text/plain": [
       "3"
      ]
     },
     "execution_count": 5,
     "metadata": {},
     "output_type": "execute_result"
    }
   ],
   "source": [
    "len(df)"
   ]
  },
  {
   "cell_type": "code",
   "execution_count": 6,
   "metadata": {},
   "outputs": [],
   "source": [
    "from ast import literal_eval"
   ]
  },
  {
   "cell_type": "code",
   "execution_count": 7,
   "metadata": {},
   "outputs": [],
   "source": [
    "df['reviews'] = df['reviews'].apply(literal_eval)    "
   ]
  },
  {
   "cell_type": "code",
   "execution_count": 77,
   "metadata": {},
   "outputs": [
    {
     "name": "stdout",
     "output_type": "stream",
     "text": [
      "142\n"
     ]
    }
   ],
   "source": [
    "max_len_synopsis=0\n",
    "max_len_reviews=0 \n",
    "no_of_reviews=0\n",
    "tot_no_of_reviews=0\n",
    "fin_text=''\n",
    "for index,row in df.iterrows():\n",
    "    max_len_synopsis = max(max_len_synopsis, len(row['synopsis']))\n",
    "    text=''.join(row['synopsis'])\n",
    "    fin_text+=' '+text\n",
    "for i in range(0, len(df)):\n",
    "    temp = df.iloc[i]['reviews']\n",
    "    no_of_reviews=0;\n",
    "    for text in temp:\n",
    "        max_len_reviews = max(max_len_reviews, len(text))\n",
    "        no_of_reviews=no_of_reviews+1\n",
    "        fin_text+=' '+text\n",
    "    tot_no_of_reviews += no_of_reviews\n",
    "print(tot_no_of_reviews)\n",
    "chars = tuple(set(fin_text))\n",
    "int2char = dict(enumerate(chars))\n",
    "char2int = {ch: ii for ii, ch in int2char.items()}\n",
    "fortyforty = (int)((max_len_reviews-36)/5)+1\n",
    "\n",
    "#print(fortyforty)\n",
    "max_len_reviews = 36+5*fortyforty\n",
    "#print(max_len_reviews)"
   ]
  },
  {
   "cell_type": "code",
   "execution_count": 78,
   "metadata": {},
   "outputs": [],
   "source": [
    "def one_hot_encoder(text):\n",
    "    encoded = np.array([char2int[ch] for ch in text])\n",
    "    ans = np.zeros((max_len_synopsis, len(int2char)), dtype = np.float32)\n",
    "    cnt=0;\n",
    "    for x in encoded:\n",
    "        ans[cnt][x] = 1.0\n",
    "        cnt=cnt+1\n",
    "    return ans"
   ]
  },
  {
   "cell_type": "code",
   "execution_count": 79,
   "metadata": {},
   "outputs": [
    {
     "name": "stdout",
     "output_type": "stream",
     "text": [
      "{0: 'j', 1: 'w', 2: '3', 3: ' ', 4: '=', 5: ',', 6: '%', 7: 'B', 8: '2', 9: 'ê', 10: 'A', 11: '&', 12: 'S', 13: 'E', 14: 'W', 15: 'G', 16: ':', 17: 'Q', 18: '#', 19: 'i', 20: '6', 21: 'K', 22: 'Y', 23: '\\n', 24: '9', 25: 'R', 26: 'V', 27: 'p', 28: '\\x96', 29: 'C', 30: 'm', 31: 'c', 32: 't', 33: 'z', 34: 'I', 35: '~', 36: 'a', 37: '1', 38: 'd', 39: '[', 40: '+', 41: 's', 42: '8', 43: '(', 44: 'q', 45: 'v', 46: '.', 47: 'n', 48: '4', 49: '$', 50: 'Z', 51: 'F', 52: 'é', 53: 'J', 54: \"'\", 55: 'D', 56: '\"', 57: 'l', 58: 'T', 59: 'U', 60: 'b', 61: 'o', 62: '7', 63: ')', 64: 'O', 65: 'X', 66: ';', 67: 'f', 68: 'e', 69: 'y', 70: '0', 71: 'k', 72: 'g', 73: '-', 74: '!', 75: '5', 76: ']', 77: 'M', 78: '*', 79: 'h', 80: '`', 81: 'L', 82: 'N', 83: 'P', 84: 'r', 85: 'u', 86: 'x', 87: 'H', 88: '/', 89: '?'}\n"
     ]
    }
   ],
   "source": [
    "print(int2char)"
   ]
  },
  {
   "cell_type": "code",
   "execution_count": 80,
   "metadata": {},
   "outputs": [
    {
     "name": "stdout",
     "output_type": "stream",
     "text": [
      "[[1. 0. 0. ... 0. 0. 0.]\n",
      " [0. 1. 0. ... 0. 0. 0.]\n",
      " [0. 0. 1. ... 0. 0. 0.]\n",
      " ...\n",
      " [0. 0. 0. ... 0. 0. 0.]\n",
      " [0. 0. 0. ... 0. 0. 0.]\n",
      " [0. 0. 0. ... 0. 0. 0.]]\n"
     ]
    }
   ],
   "source": [
    "one_hot = one_hot_encoder(\"jw3e ???? is smart\")\n",
    "print(one_hot)"
   ]
  },
  {
   "cell_type": "code",
   "execution_count": 81,
   "metadata": {},
   "outputs": [],
   "source": [
    "Y = np.zeros((1, fortyforty, len(int2char)), dtype=np.float32)"
   ]
  },
  {
   "cell_type": "code",
   "execution_count": 82,
   "metadata": {},
   "outputs": [],
   "source": [
    "def char_encoding2arr(c):\n",
    "    encoded = np.zeros(len(int2char), dtype = np.float32)\n",
    "    encoded[char2int[c]]=1.0\n",
    "    return encoded"
   ]
  },
  {
   "cell_type": "code",
   "execution_count": 83,
   "metadata": {},
   "outputs": [
    {
     "name": "stdout",
     "output_type": "stream",
     "text": [
      "T\n",
      "[0. 0. 0. 1. 0. 0. 0. 0. 0. 0. 0. 0. 0. 0. 0. 0. 0. 0. 0. 0. 0. 0. 0. 0.\n",
      " 0. 0. 0. 0. 0. 0. 0. 0. 0. 0. 0. 0. 0. 0. 0. 0. 0. 0. 0. 0. 0. 0. 0. 0.\n",
      " 0. 0. 0. 0. 0. 0. 0. 0. 0. 0. 0. 0. 0. 0. 0. 0. 0. 0. 0. 0. 0. 0. 0. 0.\n",
      " 0. 0. 0. 0. 0. 0. 0. 0. 0. 0. 0. 0. 0. 0. 0. 0. 0. 0.]\n"
     ]
    }
   ],
   "source": [
    "cnt=0\n",
    "for i in range(1):\n",
    "    for j in range(1):\n",
    "        for k in range(40, len(df.iloc[i]['reviews'][j]), 5):\n",
    "#             print(k)\n",
    "            l = (int)((k-40)/5)\n",
    "            #print(l)\n",
    "            Y[cnt][l] = char_encoding2arr(df.iloc[i]['reviews'][j][k])\n",
    "        cnt+=1\n",
    "print(df.iloc[0]['reviews'][0][0])\n",
    "print(Y[0][0])"
   ]
  },
  {
   "cell_type": "code",
   "execution_count": 84,
   "metadata": {},
   "outputs": [
    {
     "name": "stdout",
     "output_type": "stream",
     "text": [
      " \n",
      "d\n",
      "[0. 0. 0. 0. 0. 0. 0. 0. 0. 0. 0. 0. 0. 0. 0. 0. 0. 0. 0. 0. 0. 0. 0. 0.\n",
      " 0. 0. 0. 0. 0. 0. 0. 0. 0. 0. 0. 0. 0. 0. 1. 0. 0. 0. 0. 0. 0. 0. 0. 0.\n",
      " 0. 0. 0. 0. 0. 0. 0. 0. 0. 0. 0. 0. 0. 0. 0. 0. 0. 0. 0. 0. 0. 0. 0. 0.\n",
      " 0. 0. 0. 0. 0. 0. 0. 0. 0. 0. 0. 0. 0. 0. 0. 0. 0. 0.]\n"
     ]
    }
   ],
   "source": [
    "print(df.iloc[0]['reviews'][0][40])\n",
    "print(df.iloc[0]['reviews'][0][45])\n",
    "print(Y[0][1])"
   ]
  },
  {
   "cell_type": "code",
   "execution_count": 85,
   "metadata": {},
   "outputs": [
    {
     "data": {
      "text/plain": [
       "(1, 1499, 11841, 90)"
      ]
     },
     "execution_count": 85,
     "metadata": {},
     "output_type": "execute_result"
    }
   ],
   "source": [
    "#print(df.iloc[0]['reviews'][0])\n",
    "# len_of_review = len(df.iloc[0]['reviews'][0])\n",
    "# fortyforty = (int)((len_of_review -38)/3)+1\n",
    "# len_of_review  = 38+3*fortyforty\n",
    "X = np.zeros((1,int(fortyforty), 40+max_len_synopsis, len(int2char)), dtype = np.float32)\n",
    "X.shape"
   ]
  },
  {
   "cell_type": "code",
   "execution_count": null,
   "metadata": {},
   "outputs": [],
   "source": []
  }
 ],
 "metadata": {
  "kernelspec": {
   "display_name": "Python 3",
   "language": "python",
   "name": "python3"
  },
  "language_info": {
   "codemirror_mode": {
    "name": "ipython",
    "version": 3
   },
   "file_extension": ".py",
   "mimetype": "text/x-python",
   "name": "python",
   "nbconvert_exporter": "python",
   "pygments_lexer": "ipython3",
   "version": "3.7.2"
  }
 },
 "nbformat": 4,
 "nbformat_minor": 2
}
