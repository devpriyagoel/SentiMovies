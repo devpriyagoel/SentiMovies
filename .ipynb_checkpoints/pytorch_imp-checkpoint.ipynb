{
 "cells": [
  {
   "cell_type": "code",
   "execution_count": 21,
   "metadata": {},
   "outputs": [],
   "source": [
    "import pandas as pd\n",
    "import numpy as np\n",
    "import csv\n",
    "import re"
   ]
  },
  {
   "cell_type": "code",
   "execution_count": 22,
   "metadata": {},
   "outputs": [],
   "source": [
    "import torch\n",
    "from torch import nn\n",
    "import torch.nn.functional as F"
   ]
  },
  {
   "cell_type": "code",
   "execution_count": 23,
   "metadata": {},
   "outputs": [],
   "source": [
    "from keras.models import Sequential\n",
    "from keras.layers import Dense, Activation\n",
    "from keras.layers import LSTM"
   ]
  },
  {
   "cell_type": "code",
   "execution_count": 24,
   "metadata": {},
   "outputs": [],
   "source": [
    "def func(df,max_len_synopsis):\n",
    "    fin_text=df.iloc[0]['synopsis']\n",
    "    max_len_synopsis = max(max_len_synopsis, len(fin_text))\n",
    "    chars_temp = set(fin_text)\n",
    "    #chars.union(chars_temp)\n",
    "    for review in df.iloc[0]['reviews']:\n",
    "        chars_temp=chars_temp.union(set(review))\n",
    "    return chars_temp,max_len_synopsis"
   ]
  },
  {
   "cell_type": "code",
   "execution_count": 25,
   "metadata": {},
   "outputs": [],
   "source": [
    "from ast import literal_eval"
   ]
  },
  {
   "cell_type": "code",
   "execution_count": 26,
   "metadata": {},
   "outputs": [],
   "source": [
    "chunksize = 1\n",
    "fin_text=\"\"\n",
    "chars = set(fin_text)\n",
    "max_len_synop=0\n",
    "for chunk in pd.read_csv('preprocessed.tsv', chunksize=chunksize, delimiter='\\t'):\n",
    "    df= pd.DataFrame(chunk)\n",
    "    df['reviews'] = df['reviews'].apply(literal_eval)\n",
    "    temp=func(df,max_len_synop)\n",
    "    chars = chars.union(temp[0])\n",
    "    max_len_synop=max(max_len_synop,temp[1])\n",
    "chars_tuple = tuple(chars)\n",
    "int2char = dict(enumerate(chars_tuple))\n",
    "char2int = {ch: ii for ii, ch in int2char.items()}"
   ]
  },
  {
   "cell_type": "code",
   "execution_count": 27,
   "metadata": {},
   "outputs": [
    {
     "name": "stdout",
     "output_type": "stream",
     "text": [
      "{'#', 'a', 'r', 'G', 'L', 'u', 'Y', '8', 'h', \"'\", 'K', 'E', 'U', 'f', 'R', 'V', 'v', 'm', '0', '4', ',', 'O', 'o', 'Z', '=', '1', '-', 'x', 'k', 'Q', ';', 'i', '\\x96', 'ê', 'T', 't', '&', 'n', 'H', ']', '3', 'B', 'g', 'D', 'F', '.', ')', 'c', '*', '/', '?', '%', '5', ' ', 'z', '~', 'q', 'e', 'y', '2', '7', 'l', '\"', 'J', '\\n', ':', 'C', 'j', '[', '`', 'M', 'é', 'A', '$', 'b', 'p', 'W', 'I', '+', 'X', '!', '9', 'P', 'd', 'S', 'N', '6', 'w', 's', '('}\n",
      "11801\n"
     ]
    }
   ],
   "source": [
    "print(chars)\n",
    "print(max_len_synop)"
   ]
  },
  {
   "cell_type": "code",
   "execution_count": 28,
   "metadata": {},
   "outputs": [],
   "source": [
    "#df=pd.read_csv('preprocessed.tsv',delimiter='\\t', nrows=3)"
   ]
  },
  {
   "cell_type": "code",
   "execution_count": 29,
   "metadata": {},
   "outputs": [],
   "source": [
    "len_of_review = len(df.iloc[0]['reviews'][0])\n",
    "fortyforty = (int)((len_of_review -35)/5)\n"
   ]
  },
  {
   "cell_type": "code",
   "execution_count": 30,
   "metadata": {},
   "outputs": [],
   "source": [
    "# max_len_synopsis=0\n",
    "# max_len_reviews=0 \n",
    "# no_of_reviews=0\n",
    "# tot_no_of_reviews=0\n",
    "# fin_text=''\n",
    "# for index,row in df.iterrows():\n",
    "#     max_len_synopsis = max(max_len_synopsis, len(row['synopsis']))\n",
    "#     text=''.join(row['synopsis'])\n",
    "#     fin_text+=' '+text\n",
    "# for i in range(0, len(df)):\n",
    "#     temp = df.iloc[i]['reviews']\n",
    "#     no_of_reviews=0;\n",
    "#     for text in temp:\n",
    "#         max_len_reviews = max(max_len_reviews, len(text))\n",
    "#         no_of_reviews=no_of_reviews+1\n",
    "#         fin_text+=' '+text\n",
    "#     tot_no_of_reviews += no_of_reviews\n",
    "# print(tot_no_of_reviews)\n",
    "# chars = tuple(set(fin_text))\n",
    "# int2char = dict(enumerate(chars))\n",
    "# char2int = {ch: ii for ii, ch in int2char.items()}\n",
    "# fortyforty = (int)((max_len_reviews-35)/5)\n",
    "\n",
    "# #print(fortyforty)\n",
    "# max_len_reviews = 36+5*fortyforty\n",
    "# #print(max_len_reviews)"
   ]
  },
  {
   "cell_type": "code",
   "execution_count": 31,
   "metadata": {},
   "outputs": [],
   "source": [
    "def one_hot_encoder(synopsis, rev40):\n",
    "#     print(max_len_synop)\n",
    "    encoded = np.array([char2int[ch] for ch in synopsis])\n",
    "    encoded2 = np.array([char2int[ch] for ch in rev40])\n",
    "    ans = np.zeros((max_len_synop+40, len(int2char)), dtype = np.float32)\n",
    "    cnt=max_len_synop-len(synopsis)\n",
    "    for x in encoded:\n",
    "#         print(x)\n",
    "        ans[cnt][x] = 1.0\n",
    "        cnt=cnt+1\n",
    "    for x in encoded2:\n",
    "#         print(x)\n",
    "        ans[cnt][x] = 1.0\n",
    "        cnt=cnt+1\n",
    "    return ans"
   ]
  },
  {
   "cell_type": "code",
   "execution_count": 32,
   "metadata": {},
   "outputs": [],
   "source": [
    "# def one_hot_encoder(arr, n_labels):\n",
    "    \n",
    "#     # Initialize the the encoded array\n",
    "#     one_hot = np.zeros((np.multiply(*arr.shape), n_labels), dtype=np.float32)\n",
    "    \n",
    "#     # Fill the appropriate elements with ones\n",
    "#     one_hot[np.arange(one_hot.shape[0]), arr.flatten()] = 1.\n",
    "    \n",
    "#     # Finally reshape it to get back to the original array\n",
    "#     one_hot = one_hot.reshape((*arr.shape, n_labels))\n",
    "    \n",
    "#     return one_hot"
   ]
  },
  {
   "cell_type": "code",
   "execution_count": 33,
   "metadata": {},
   "outputs": [],
   "source": [
    "def char_encoding2arr(c):\n",
    "    encoded = np.zeros(len(int2char), dtype = np.float32)\n",
    "    encoded[char2int[c]]=1.0\n",
    "    return encoded"
   ]
  },
  {
   "cell_type": "code",
   "execution_count": 34,
   "metadata": {},
   "outputs": [],
   "source": [
    "from keras.models import Sequential\n",
    "from keras.layers import Dense, Activation\n",
    "from keras.layers import LSTM\n",
    "from keras import optimizers\n",
    "from keras.optimizers import RMSprop\n",
    "model = Sequential()\n",
    "model.add(LSTM(128, input_shape=(40+max_len_synop, len(int2char))))\n",
    "model.add(Dense(len(int2char)))\n",
    "model.add(Activation('softmax'))\n",
    "optimizer = RMSprop(lr=0.01)\n",
    "model.compile(loss='categorical_crossentropy', optimizer=optimizer)"
   ]
  },
  {
   "cell_type": "code",
   "execution_count": 35,
   "metadata": {},
   "outputs": [],
   "source": [
    "from keras.callbacks import LambdaCallback"
   ]
  },
  {
   "cell_type": "code",
   "execution_count": 36,
   "metadata": {},
   "outputs": [],
   "source": [
    "def sample(preds, temperature=1.0):\n",
    "    # helper function to sample an index from a probability array\n",
    "    preds = np.asarray(preds).astype('float64')\n",
    "    preds = np.log(preds) / temperature\n",
    "    exp_preds = np.exp(preds)\n",
    "    preds = exp_preds / np.sum(exp_preds)\n",
    "    probas = np.random.multinomial(1, preds, 1)\n",
    "    return np.argmax(probas)\n",
    "def on_epoch_end(review,epoch, logs, fortyforty, synopsis):\n",
    "    # Function invoked at end of each epoch. Prints generated text.\n",
    "    print()\n",
    "    print('----- Generating text after Epoch: %d' % epoch)\n",
    "\n",
    "    start_index = random.randint(0, len(review) - 40- 1)\n",
    "    for diversity in [0.2, 0.5, 1.0, 1.2]:\n",
    "        print('----- diversity:', diversity)\n",
    "\n",
    "        generated = ''\n",
    "        sentence = review[start_index: start_index +40]\n",
    "        generated += sentence\n",
    "        print('----- Generating with seed: \"' + sentence + '\"')\n",
    "        sys.stdout.write(generated)\n",
    "\n",
    "        for i in range(300):\n",
    "            x_pred = np.zeros((1, 40+max_len_synop, len(int2char)))\n",
    "#             for t, char in enumerate(sentence):\n",
    "#                 x_pred[0, t+max_len_synop, char2int[char]] = 1.\n",
    "            x_pred[0] = one_hot_encoder(synopsis, sentence)\n",
    "            preds = model.predict(x_pred, verbose=0)[0]\n",
    "            next_index = sample(preds, diversity)\n",
    "            next_char = int2char[next_index]\n",
    "\n",
    "            generated += next_char\n",
    "            sentence = sentence[1:] + next_char\n",
    "\n",
    "            sys.stdout.write(next_char)\n",
    "            sys.stdout.flush()\n",
    "        print()\n",
    "print_callback = LambdaCallback(on_epoch_end=on_epoch_end)\n"
   ]
  },
  {
   "cell_type": "code",
   "execution_count": 37,
   "metadata": {},
   "outputs": [],
   "source": [
    "from keras.callbacks import ModelCheckpoint\n",
    "\n",
    "filepath = \"weights.hdf5\"\n",
    "checkpoint = ModelCheckpoint(filepath, monitor='loss',verbose=1, save_best_only=True,mode='min')"
   ]
  },
  {
   "cell_type": "code",
   "execution_count": 38,
   "metadata": {},
   "outputs": [],
   "source": [
    "from keras.callbacks import ReduceLROnPlateau\n",
    "reduce_lr = ReduceLROnPlateau(monitor='loss', factor=0.2,patience=1, min_lr=0.001)\n",
    "callbacks = [print_callback, checkpoint, reduce_lr]"
   ]
  },
  {
   "cell_type": "code",
   "execution_count": 39,
   "metadata": {},
   "outputs": [],
   "source": [
    "def machau(synopsis,review):\n",
    "    fortyforty = (len(review) -36)//5\n",
    "    Y = np.zeros((fortyforty, len(int2char)), dtype=np.float32)\n",
    "    X = np.zeros((fortyforty, 40+max_len_synop, len(int2char)), dtype = np.float32)\n",
    "    for k in range(40, len(review), 5):\n",
    "        l = (int)((k-40)/5)\n",
    "        Y[l] = char_encoding2arr(review[k])\n",
    "        \n",
    "    for i in range(fortyforty):\n",
    "        start_index=i*5;\n",
    "        X[i]=one_hot_encoder(synopsis,review[start_index:start_index+40])\n",
    "#     print(Y[0])\n",
    "#     print(X[0])"
   ]
  },
  {
   "cell_type": "code",
   "execution_count": 40,
   "metadata": {},
   "outputs": [],
   "source": [
    "chunksize = 1\n",
    "for chunk in pd.read_csv('preprocessed.tsv', chunksize=chunksize, delimiter='\\t'):\n",
    "    df= pd.DataFrame(chunk)\n",
    "    df['reviews'] = df['reviews'].apply(literal_eval)\n",
    "    for review in df.iloc[0]['reviews']:\n",
    "        machau(df.iloc[0]['synopsis'],review)\n",
    "        break\n",
    "    break "
   ]
  },
  {
   "cell_type": "code",
   "execution_count": 41,
   "metadata": {},
   "outputs": [],
   "source": [
    "def generate_text(length, diversity,review,synopsis):\n",
    "    # Get random starting text\n",
    "    start_index = random.randint(0, len(review) - 40 - 1)\n",
    "    generated = ''\n",
    "    sentence = review[start_index: start_index + 40]\n",
    "    generated += sentence\n",
    "    for i in range(length):\n",
    "            x_pred = np.zeros((1, 40+max_len_synop, len(int2char)))\n",
    "#             for t, char in enumerate(sentence):\n",
    "#                 x_pred[0, t+max_len_synop, char2int[char]] = 1.\n",
    "            x_pred[0] = one_hot_encoder(synopsis, sentence)\n",
    "            preds = model.predict(x_pred, verbose=0)[0]\n",
    "            next_index = sample(preds, diversity)\n",
    "            next_char = int2char[next_index]\n",
    "\n",
    "            generated += next_char\n",
    "            sentence = sentence[1:] + next_char\n",
    "\n",
    "    return generated"
   ]
  }
 ],
 "metadata": {
  "kernelspec": {
   "display_name": "Python 3",
   "language": "python",
   "name": "python3"
  },
  "language_info": {
   "codemirror_mode": {
    "name": "ipython",
    "version": 3
   },
   "file_extension": ".py",
   "mimetype": "text/x-python",
   "name": "python",
   "nbconvert_exporter": "python",
   "pygments_lexer": "ipython3",
   "version": "3.7.1"
  }
 },
 "nbformat": 4,
 "nbformat_minor": 2
}
