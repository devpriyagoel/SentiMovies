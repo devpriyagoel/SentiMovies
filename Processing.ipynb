{
 "cells": [
  {
   "cell_type": "code",
   "execution_count": 1,
   "metadata": {},
   "outputs": [
    {
     "name": "stderr",
     "output_type": "stream",
     "text": [
      "[nltk_data] Downloading package stopwords to /home/dev/nltk_data...\n",
      "[nltk_data]   Package stopwords is already up-to-date!\n"
     ]
    },
    {
     "data": {
      "text/plain": [
       "True"
      ]
     },
     "execution_count": 1,
     "metadata": {},
     "output_type": "execute_result"
    }
   ],
   "source": [
    "import pandas as pd\n",
    "import numpy as np\n",
    "import csv\n",
    "import re\n",
    "import nltk\n",
    "nltk.download('stopwords')"
   ]
  },
  {
   "cell_type": "code",
   "execution_count": 2,
   "metadata": {},
   "outputs": [
    {
     "data": {
      "text/html": [
       "<div>\n",
       "<style scoped>\n",
       "    .dataframe tbody tr th:only-of-type {\n",
       "        vertical-align: middle;\n",
       "    }\n",
       "\n",
       "    .dataframe tbody tr th {\n",
       "        vertical-align: top;\n",
       "    }\n",
       "\n",
       "    .dataframe thead th {\n",
       "        text-align: right;\n",
       "    }\n",
       "</style>\n",
       "<table border=\"1\" class=\"dataframe\">\n",
       "  <thead>\n",
       "    <tr style=\"text-align: right;\">\n",
       "      <th></th>\n",
       "      <th>Unnamed: 0</th>\n",
       "      <th>rating</th>\n",
       "      <th>reviews</th>\n",
       "      <th>synopsis</th>\n",
       "      <th>title</th>\n",
       "      <th>user_ratings</th>\n",
       "    </tr>\n",
       "  </thead>\n",
       "  <tbody>\n",
       "    <tr>\n",
       "      <th>0</th>\n",
       "      <td>0</td>\n",
       "      <td>9.217045</td>\n",
       "      <td>['Tied for the best movie I have ever seen Why...</td>\n",
       "      <td>In 1947, Andy Dufresne (Tim Robbins), a banker...</td>\n",
       "      <td>The Shawshank Redemption</td>\n",
       "      <td>['10/10', '10/10', '10/10', '10/10', '10/10', ...</td>\n",
       "    </tr>\n",
       "    <tr>\n",
       "      <th>1</th>\n",
       "      <td>1</td>\n",
       "      <td>1.997582</td>\n",
       "      <td>['The fact that aspiring actors, directors, an...</td>\n",
       "      <td>The movie opens with spoofing \"Armageddon\" and...</td>\n",
       "      <td>Disaster Movie</td>\n",
       "      <td>['1/10', '1/10', '1/10', '1/10', '1/10', '1/10...</td>\n",
       "    </tr>\n",
       "    <tr>\n",
       "      <th>2</th>\n",
       "      <td>2</td>\n",
       "      <td>8.500000</td>\n",
       "      <td>['Unlike anything ever done in the history of ...</td>\n",
       "      <td>SPOILER: Thanos and his Children - Proxima Mid...</td>\n",
       "      <td>Avengers: Infinity War</td>\n",
       "      <td>['10/10', '10/10', '10/10', '9/10', '10/10', '...</td>\n",
       "    </tr>\n",
       "  </tbody>\n",
       "</table>\n",
       "</div>"
      ],
      "text/plain": [
       "   Unnamed: 0    rating                                            reviews  \\\n",
       "0           0  9.217045  ['Tied for the best movie I have ever seen Why...   \n",
       "1           1  1.997582  ['The fact that aspiring actors, directors, an...   \n",
       "2           2  8.500000  ['Unlike anything ever done in the history of ...   \n",
       "\n",
       "                                            synopsis  \\\n",
       "0  In 1947, Andy Dufresne (Tim Robbins), a banker...   \n",
       "1  The movie opens with spoofing \"Armageddon\" and...   \n",
       "2  SPOILER: Thanos and his Children - Proxima Mid...   \n",
       "\n",
       "                      title                                       user_ratings  \n",
       "0  The Shawshank Redemption  ['10/10', '10/10', '10/10', '10/10', '10/10', ...  \n",
       "1            Disaster Movie  ['1/10', '1/10', '1/10', '1/10', '1/10', '1/10...  \n",
       "2    Avengers: Infinity War  ['10/10', '10/10', '10/10', '9/10', '10/10', '...  "
      ]
     },
     "execution_count": 2,
     "metadata": {},
     "output_type": "execute_result"
    }
   ],
   "source": [
    "df=pd.read_csv('sample1.tsv',delimiter='\\t') \n",
    "df.head()"
   ]
  },
  {
   "cell_type": "code",
   "execution_count": 3,
   "metadata": {},
   "outputs": [
    {
     "name": "stderr",
     "output_type": "stream",
     "text": [
      "[nltk_data] Downloading package wordnet to /home/dev/nltk_data...\n",
      "[nltk_data]   Package wordnet is already up-to-date!\n"
     ]
    }
   ],
   "source": [
    "from nltk.stem import WordNetLemmatizer\n",
    "from nltk.tokenize import word_tokenize\n",
    "from nltk.tag import pos_tag\n",
    "nltk.download('wordnet')\n",
    "from nltk.stem import wordnet"
   ]
  },
  {
   "cell_type": "code",
   "execution_count": 4,
   "metadata": {},
   "outputs": [
    {
     "name": "stderr",
     "output_type": "stream",
     "text": [
      "[nltk_data] Downloading package punkt to /home/dev/nltk_data...\n",
      "[nltk_data]   Package punkt is already up-to-date!\n",
      "[nltk_data] Downloading package averaged_perceptron_tagger to\n",
      "[nltk_data]     /home/dev/nltk_data...\n",
      "[nltk_data]   Package averaged_perceptron_tagger is already up-to-\n",
      "[nltk_data]       date!\n"
     ]
    },
    {
     "data": {
      "text/plain": [
       "True"
      ]
     },
     "execution_count": 4,
     "metadata": {},
     "output_type": "execute_result"
    }
   ],
   "source": [
    "nltk.download('punkt')\n",
    "nltk.download('averaged_perceptron_tagger')"
   ]
  },
  {
   "cell_type": "code",
   "execution_count": 5,
   "metadata": {},
   "outputs": [
    {
     "name": "stdout",
     "output_type": "stream",
     "text": [
      "0    1947 Andy Dufresne Tim Robbins banker Maine co...\n",
      "1    movie open spoof Armageddon 10 000 B C year 10...\n",
      "2    SPOILER Thanos Children Proxima Midnight Ebony...\n",
      "Name: synopsis, dtype: object\n"
     ]
    }
   ],
   "source": [
    "from nltk.corpus import stopwords\n",
    "import string\n",
    "# # Apply this code to every textual string\n",
    "\n",
    "wnl = WordNetLemmatizer() \n",
    "for i in range(len(df)):\n",
    "    syn=df.iloc[i]['synopsis']\n",
    "\n",
    "    syn = re.sub('''[!@#$+%*:();/.,?\"'-]''', ' ', syn)\n",
    "    word_list = syn.split() \n",
    "    filtered_words = [word for word in word_list if word.lower() not in stopwords.words('english')]\n",
    "    syn = ' '.join(filtered_words)\n",
    "    temp=[]\n",
    "    for word, tag in pos_tag(word_tokenize(syn)):\n",
    "        if tag.startswith(\"NN\"):\n",
    "            temp.append(wnl.lemmatize(word, pos='n'))\n",
    "        elif tag.startswith('VB'):\n",
    "            temp.append(wnl.lemmatize(word, pos='v'))\n",
    "        elif tag.startswith('JJ'):\n",
    "            temp.append(wnl.lemmatize(word, pos='a'))\n",
    "        else:\n",
    "            temp.append(word)\n",
    "\n",
    "    syn=''\n",
    "    syn=' '.join(temp)\n",
    "#     print(syn)\n",
    "    df.iloc[i, 3]=syn\n",
    "print(df['synopsis'])"
   ]
  },
  {
   "cell_type": "code",
   "execution_count": 6,
   "metadata": {},
   "outputs": [],
   "source": [
    "df.to_csv('preprocessed.tsv',sep='\\t')"
   ]
  },
  {
   "cell_type": "code",
   "execution_count": null,
   "metadata": {},
   "outputs": [],
   "source": [
    "\n"
   ]
  },
  {
   "cell_type": "code",
   "execution_count": null,
   "metadata": {},
   "outputs": [],
   "source": []
  },
  {
   "cell_type": "code",
   "execution_count": null,
   "metadata": {},
   "outputs": [],
   "source": []
  }
 ],
 "metadata": {
  "kernelspec": {
   "display_name": "Python 3",
   "language": "python",
   "name": "python3"
  },
  "language_info": {
   "codemirror_mode": {
    "name": "ipython",
    "version": 3
   },
   "file_extension": ".py",
   "mimetype": "text/x-python",
   "name": "python",
   "nbconvert_exporter": "python",
   "pygments_lexer": "ipython3",
   "version": "3.7.2"
  }
 },
 "nbformat": 4,
 "nbformat_minor": 2
}
