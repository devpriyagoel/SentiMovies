{
 "cells": [
  {
   "cell_type": "code",
   "execution_count": 36,
   "metadata": {},
   "outputs": [],
   "source": [
    "import pandas as pd\n",
    "import numpy as np\n",
    "import csv\n",
    "import re"
   ]
  },
  {
   "cell_type": "code",
   "execution_count": 37,
   "metadata": {},
   "outputs": [],
   "source": [
    "# max_len_synopsis=0\n",
    "# max_len_reviews=0 \n",
    "# no_of_reviews=0\n",
    "# tot_no_of_reviews=0\n",
    "# fin_text=''\n",
    "# for index,row in df.iterrows():\n",
    "#     max_len_synopsis = max(max_len_synopsis, len(row['synopsis']))\n",
    "#     text=''.join(row['synopsis'])\n",
    "#     fin_text+=' '+text\n",
    "# for i in range(0, len(df)):\n",
    "#     temp = df.iloc[i]['reviews']\n",
    "#     no_of_reviews=0;\n",
    "#     for text in temp:\n",
    "#         max_len_reviews = max(max_len_reviews, len(text))\n",
    "#         no_of_reviews=no_of_reviews+1\n",
    "#         fin_text+=' '+text\n",
    "#     tot_no_of_reviews += no_of_reviews\n",
    "# print(tot_no_of_reviews)\n",
    "# chars = tuple(set(fin_text))\n",
    "# int2char = dict(enumerate(chars))\n",
    "# char2int = {ch: ii for ii, ch in int2char.items()}\n",
    "# fortyforty = (int)((max_len_reviews-35)/5)\n",
    "\n",
    "# #print(fortyforty)\n",
    "# max_len_reviews = 36+5*fortyforty\n",
    "# #print(max_len_reviews)"
   ]
  },
  {
   "cell_type": "code",
   "execution_count": 38,
   "metadata": {},
   "outputs": [],
   "source": [
    "def func(df,max_len_synopsis):\n",
    "    fin_text=df.iloc[0]['synopsis']\n",
    "    max_len_synopsis = max(max_len_synopsis, len(fin_text))\n",
    "    chars_temp = set(fin_text)\n",
    "    #chars.union(chars_temp)\n",
    "    for review in df.iloc[0]['reviews']:\n",
    "        chars_temp=chars_temp.union(set(review))\n",
    "    return chars_temp,max_len_synopsis"
   ]
  },
  {
   "cell_type": "code",
   "execution_count": 39,
   "metadata": {},
   "outputs": [],
   "source": [
    "from ast import literal_eval"
   ]
  },
  {
   "cell_type": "code",
   "execution_count": 41,
   "metadata": {},
   "outputs": [],
   "source": [
    "chunksize = 1\n",
    "fin_text=\"\"\n",
    "chars = set(fin_text)\n",
    "max_len_synop=0\n",
    "for chunk in pd.read_csv('preprocessed.tsv', chunksize=chunksize, delimiter='\\t'):\n",
    "    df= pd.DataFrame(chunk)\n",
    "    df['reviews'] = df['reviews'].apply(literal_eval)\n",
    "    temp=func(df,max_len_synop)\n",
    "    chars = chars.union(temp[0])\n",
    "    max_len_synop=max(max_len_synop,temp[1])\n",
    "chars_tuple = tuple(chars)\n",
    "int2char = dict(enumerate(chars_tuple))\n",
    "char2int = {ch: ii for ii, ch in int2char.items()}"
   ]
  },
  {
   "cell_type": "code",
   "execution_count": 44,
   "metadata": {},
   "outputs": [
    {
     "name": "stdout",
     "output_type": "stream",
     "text": [
      "{'s', '1', 'i', 'M', 'B', 'a', 'u', 'h', '!', 'q', '5', '[', '&', 'r', ' ', 'o', 'y', '#', 'K', 'd', 'O', '`', ')', 'j', '%', \"'\", 'f', 'X', 'E', 'N', '2', 'L', 'b', 'Q', 'R', 'm', '0', 'é', 'z', '6', 'C', '$', 'l', 'H', '?', ',', '8', 'x', ';', 'g', '*', 'Z', '~', 'G', 'A', 'P', 'I', 'U', 'p', ':', 'c', 'ê', '\"', '=', 'W', ']', 'e', '3', '\\x96', '/', '\\n', '7', '(', 'T', '-', 'k', 'J', 'F', '.', 'n', 'Y', '9', 'S', '+', 'v', 'D', 't', 'V', '4', 'w'}\n",
      "11801\n"
     ]
    }
   ],
   "source": [
    "print(chars)\n",
    "print(max_len_synop)"
   ]
  },
  {
   "cell_type": "code",
   "execution_count": null,
   "metadata": {},
   "outputs": [],
   "source": []
  },
  {
   "cell_type": "code",
   "execution_count": null,
   "metadata": {},
   "outputs": [],
   "source": []
  },
  {
   "cell_type": "code",
   "execution_count": null,
   "metadata": {},
   "outputs": [],
   "source": []
  },
  {
   "cell_type": "code",
   "execution_count": null,
   "metadata": {},
   "outputs": [],
   "source": []
  },
  {
   "cell_type": "code",
   "execution_count": null,
   "metadata": {},
   "outputs": [],
   "source": []
  },
  {
   "cell_type": "code",
   "execution_count": null,
   "metadata": {},
   "outputs": [],
   "source": []
  }
 ],
 "metadata": {
  "kernelspec": {
   "display_name": "Python 3",
   "language": "python",
   "name": "python3"
  },
  "language_info": {
   "codemirror_mode": {
    "name": "ipython",
    "version": 3
   },
   "file_extension": ".py",
   "mimetype": "text/x-python",
   "name": "python",
   "nbconvert_exporter": "python",
   "pygments_lexer": "ipython3",
   "version": "3.7.1"
  }
 },
 "nbformat": 4,
 "nbformat_minor": 2
}
